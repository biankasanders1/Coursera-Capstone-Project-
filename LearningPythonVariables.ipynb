{
  "nbformat": 4,
  "nbformat_minor": 0,
  "metadata": {
    "colab": {
      "name": "PythonVariables.ipynb",
      "provenance": [],
      "authorship_tag": "ABX9TyOFwwAMZQ4/rWMPGC3tgR4G",
      "include_colab_link": true
    },
    "kernelspec": {
      "name": "python3",
      "display_name": "Python 3"
    },
    "language_info": {
      "name": "python"
    }
  },
  "cells": [
    {
      "cell_type": "markdown",
      "metadata": {
        "id": "view-in-github",
        "colab_type": "text"
      },
      "source": [
        "<a href=\"https://colab.research.google.com/github/biankasanders1/Coursera-Capstone-Project-/blob/main/LearningPythonVariables.ipynb\" target=\"_parent\"><img src=\"https://colab.research.google.com/assets/colab-badge.svg\" alt=\"Open In Colab\"/></a>"
      ]
    },
    {
      "cell_type": "code",
      "metadata": {
        "id": "6LTvHHvsL9ie"
      },
      "source": [
        "#Variables"
      ],
      "execution_count": null,
      "outputs": []
    },
    {
      "cell_type": "code",
      "metadata": {
        "id": "mH_vijYJMmWV"
      },
      "source": [
        "a=4"
      ],
      "execution_count": null,
      "outputs": []
    },
    {
      "cell_type": "code",
      "metadata": {
        "colab": {
          "base_uri": "https://localhost:8080/"
        },
        "id": "b3aqNg_7MoNL",
        "outputId": "21df327e-6ccf-4a01-a61e-9789f4513e8a"
      },
      "source": [
        "a"
      ],
      "execution_count": null,
      "outputs": [
        {
          "output_type": "execute_result",
          "data": {
            "text/plain": [
              "4"
            ]
          },
          "metadata": {
            "tags": []
          },
          "execution_count": 4
        }
      ]
    },
    {
      "cell_type": "code",
      "metadata": {
        "colab": {
          "base_uri": "https://localhost:8080/"
        },
        "id": "O05lELuzMyf_",
        "outputId": "7cd2b2fa-0868-4f82-c56d-96555d36e7d6"
      },
      "source": [
        "a=10\n",
        "b=12\n",
        "a=b\n",
        "a"
      ],
      "execution_count": null,
      "outputs": [
        {
          "output_type": "execute_result",
          "data": {
            "text/plain": [
              "12"
            ]
          },
          "metadata": {
            "tags": []
          },
          "execution_count": 5
        }
      ]
    },
    {
      "cell_type": "code",
      "metadata": {
        "colab": {
          "base_uri": "https://localhost:8080/"
        },
        "id": "vEzXHKDkM-xs",
        "outputId": "4b11788d-261a-4fd5-9b6d-b686ceeadf7f"
      },
      "source": [
        "b"
      ],
      "execution_count": null,
      "outputs": [
        {
          "output_type": "execute_result",
          "data": {
            "text/plain": [
              "12"
            ]
          },
          "metadata": {
            "tags": []
          },
          "execution_count": 6
        }
      ]
    },
    {
      "cell_type": "code",
      "metadata": {
        "id": "O7gJVLVZNAAt"
      },
      "source": [
        "#Naming of Variables"
      ],
      "execution_count": null,
      "outputs": []
    },
    {
      "cell_type": "code",
      "metadata": {
        "id": "KMsPmi_PNEyg"
      },
      "source": [
        "#Case Sensitive"
      ],
      "execution_count": null,
      "outputs": []
    },
    {
      "cell_type": "code",
      "metadata": {
        "id": "wuvo5PUbNIQH"
      },
      "source": [
        "#Number have to succeed the character\n",
        "#Symnbols cannont be used as Variables\n",
        "#_'Is a valid syntax name"
      ],
      "execution_count": null,
      "outputs": []
    },
    {
      "cell_type": "code",
      "metadata": {
        "colab": {
          "base_uri": "https://localhost:8080/"
        },
        "id": "t0JfZMjeN-_s",
        "outputId": "39f31217-0607-4070-9050-cbcef0f822e5"
      },
      "source": [
        "a=9\n",
        "b=89\n",
        "a\n",
        "b"
      ],
      "execution_count": null,
      "outputs": [
        {
          "output_type": "execute_result",
          "data": {
            "text/plain": [
              "89"
            ]
          },
          "metadata": {
            "tags": []
          },
          "execution_count": 12
        }
      ]
    },
    {
      "cell_type": "code",
      "metadata": {
        "colab": {
          "base_uri": "https://localhost:8080/"
        },
        "id": "bGSnwq3jOOIn",
        "outputId": "eb2e8bce-1efe-4dad-bb2c-b3dfb1b2e3b6"
      },
      "source": [
        "b"
      ],
      "execution_count": null,
      "outputs": [
        {
          "output_type": "execute_result",
          "data": {
            "text/plain": [
              "89"
            ]
          },
          "metadata": {
            "tags": []
          },
          "execution_count": 13
        }
      ]
    },
    {
      "cell_type": "code",
      "metadata": {
        "colab": {
          "base_uri": "https://localhost:8080/"
        },
        "id": "ul4IEOAGORzV",
        "outputId": "57cdffb3-c59f-416a-86db-ba66e7d28c6f"
      },
      "source": [
        "a"
      ],
      "execution_count": null,
      "outputs": [
        {
          "output_type": "execute_result",
          "data": {
            "text/plain": [
              "9"
            ]
          },
          "metadata": {
            "tags": []
          },
          "execution_count": 14
        }
      ]
    },
    {
      "cell_type": "code",
      "metadata": {
        "id": "ljBwrEX_OTHM"
      },
      "source": [
        "## Output Function\n"
      ],
      "execution_count": null,
      "outputs": []
    },
    {
      "cell_type": "code",
      "metadata": {
        "id": "UkM1BPtVOdh2"
      },
      "source": [
        "#Python 3"
      ],
      "execution_count": null,
      "outputs": []
    },
    {
      "cell_type": "code",
      "metadata": {
        "colab": {
          "base_uri": "https://localhost:8080/"
        },
        "id": "5bQiLCbYOfRv",
        "outputId": "eb39651b-144d-4e0a-d6af-66711225dad4"
      },
      "source": [
        "print (a)\n",
        "print (b)"
      ],
      "execution_count": null,
      "outputs": [
        {
          "output_type": "stream",
          "text": [
            "9\n",
            "89\n"
          ],
          "name": "stdout"
        }
      ]
    },
    {
      "cell_type": "code",
      "metadata": {
        "colab": {
          "base_uri": "https://localhost:8080/"
        },
        "id": "mdT6K4qaOveY",
        "outputId": "e6f19553-3e08-4429-8e40-2ef377638463"
      },
      "source": [
        "print (a,b)"
      ],
      "execution_count": null,
      "outputs": [
        {
          "output_type": "stream",
          "text": [
            "9 89\n"
          ],
          "name": "stdout"
        }
      ]
    },
    {
      "cell_type": "code",
      "metadata": {
        "id": "bGK83MqgO2PT"
      },
      "source": [
        "a,b=3,4"
      ],
      "execution_count": null,
      "outputs": []
    },
    {
      "cell_type": "code",
      "metadata": {
        "colab": {
          "base_uri": "https://localhost:8080/"
        },
        "id": "-SFnCU70O8c4",
        "outputId": "8e4cdeb0-ed66-4404-c2e1-23ef9273d650"
      },
      "source": [
        "print (a,b)"
      ],
      "execution_count": null,
      "outputs": [
        {
          "output_type": "stream",
          "text": [
            "3 4\n"
          ],
          "name": "stdout"
        }
      ]
    },
    {
      "cell_type": "code",
      "metadata": {
        "id": "DX4bGDiOO_Fq"
      },
      "source": [
        "###Python 2"
      ],
      "execution_count": null,
      "outputs": []
    },
    {
      "cell_type": "markdown",
      "metadata": {
        "id": "XO-PHLAMPD6w"
      },
      "source": [
        "#Heading 1"
      ]
    },
    {
      "cell_type": "markdown",
      "metadata": {
        "id": "wIiAC18BQSKz"
      },
      "source": [
        "##Heading 2"
      ]
    },
    {
      "cell_type": "markdown",
      "metadata": {
        "id": "oyxwKDxpQanC"
      },
      "source": [
        "###Heading 3"
      ]
    },
    {
      "cell_type": "code",
      "metadata": {
        "id": "GH2ICEtpQgR8"
      },
      "source": [
        ""
      ],
      "execution_count": null,
      "outputs": []
    },
    {
      "cell_type": "code",
      "metadata": {
        "id": "mnKVn7-qQsuj"
      },
      "source": [
        ""
      ],
      "execution_count": null,
      "outputs": []
    }
  ]
}